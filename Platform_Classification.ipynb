{
  "nbformat": 4,
  "nbformat_minor": 0,
  "metadata": {
    "colab": {
      "provenance": []
    },
    "kernelspec": {
      "name": "python3",
      "display_name": "Python 3"
    },
    "language_info": {
      "name": "python"
    }
  },
  "cells": [
    {
      "cell_type": "markdown",
      "source": [
        "**This project aims to classify/\"predict\" what certain Genres and Sales would yield in terms of Platform..**\n",
        "\n",
        "**We will be using a Decision Tree to classify values**\n",
        "\n",
        "\n",
        "\n",
        ">Original Dataset from https://www.kaggle.com/datasets/thedevastator/global-video-game-sales\n",
        "\n",
        "\n",
        "\n",
        "\n",
        "\n",
        ">  **Note**: We modified this dataset by transforming Genres from string into an int\n",
        "      \n",
        ">  (Ex. Adventure is now 0, Action is 1)\n",
        "\n",
        "\n",
        "\n",
        "\n"
      ],
      "metadata": {
        "id": "g1Fp67eaaLUQ"
      }
    },
    {
      "cell_type": "markdown",
      "source": [
        "1. Import our dataset"
      ],
      "metadata": {
        "id": "f7n6gjZYbcb_"
      }
    },
    {
      "cell_type": "code",
      "execution_count": 4,
      "metadata": {
        "id": "KBeOzSCRWac0"
      },
      "outputs": [],
      "source": [
        "#This project aims to classify/\"predict\" what certain Genres and Sales would yield in terms of Platform\n",
        "# for example, what Platform would a game in the Fighting genre and 100 sales be?\n",
        "from sklearn.tree import DecisionTreeClassifier\n",
        "from sklearn import tree\n",
        "import pandas as pd\n",
        "from sklearn.model_selection import train_test_split\n",
        "from sklearn.preprocessing import LabelEncoder\n",
        "import graphviz\n",
        "\n",
        "#import our dataset, retrieved from https://www.kaggle.com/datasets/thedevastator/global-video-game-sales\n",
        "\n",
        "df=pd.read_csv('sales.csv')"
      ]
    },
    {
      "cell_type": "markdown",
      "source": [
        "1a. Here is the key for Genres and their corresponding numbers"
      ],
      "metadata": {
        "id": "e9uA3srRafUk"
      }
    },
    {
      "cell_type": "code",
      "source": [
        "#Changed Genre data (string) to numbers on CSV file\n",
        "#Adventure  =0  Action         =1   Fighting =2\n",
        "#Misc       =3  Platform       =4   Puzzle   =5\n",
        "#Racing     =6  Role-Playing   =7   Shooter  =8\n",
        "#Sports     =9  Simulation     =10"
      ],
      "metadata": {
        "id": "npUZCXngXrTs"
      },
      "execution_count": null,
      "outputs": []
    },
    {
      "cell_type": "markdown",
      "source": [
        "2. Assigning X and Y values to our model"
      ],
      "metadata": {
        "id": "BxRmJ6_VZmfA"
      }
    },
    {
      "cell_type": "code",
      "source": [
        "#Here, we assign X and y values to use for our model\n",
        "\n",
        "#x is Genre and Global_Sales.\n",
        "#Ex. Action is 1 in Genre (since converted str to int) and sales some int 74\n",
        "X=df.drop(['Rank','Name','Platform','Year','Publisher','NA_Sales',\n",
        "           'EU_Sales','JP_Sales','Other_Sales'],axis=1)\n",
        "\n",
        "\n",
        "#y is platform such as Wii, NES, GB, X360\n",
        "y=df['Platform']\n"
      ],
      "metadata": {
        "id": "WFBVcKm3WnQj"
      },
      "execution_count": 14,
      "outputs": []
    },
    {
      "cell_type": "markdown",
      "source": [
        "3. Fitting previous X and y into our decision tree model.\n",
        "\n",
        "Then, we will make prediction on what the Platform (y) will be based on given Genre and Global Sales (x)"
      ],
      "metadata": {
        "id": "x2q5aIyxZ9qU"
      }
    },
    {
      "cell_type": "code",
      "source": [
        "#here to not print any warnings.. ignore\n",
        "import warnings\n",
        "warnings.filterwarnings('ignore')\n",
        "\n",
        "#Here, we fit our model with previous X and y values\n",
        "model = DecisionTreeClassifier()\n",
        "model.fit(X,y) #fit model\n",
        "\n",
        "#Now, we make predictions on what the Platform will be based on Genre and Global Sales\n",
        "predictions = model.predict([[2,47], [7,70.4], [9,63.4]]) #put in inputs, Genre and Global Sales\n",
        "\n",
        "predictions #predictions show y, the Platform that these Genres/Sales would most likely be\n",
        "\n",
        "print(f'Platforms based on:\\n Fighting w/ 47 sales, Role-Playing w/ 70.4 sales, and Racing w/ 63.4 sales: \\n{predictions}')"
      ],
      "metadata": {
        "colab": {
          "base_uri": "https://localhost:8080/"
        },
        "id": "R1mKljyNZtQk",
        "outputId": "b62c4fe8-bffe-4cd0-e87e-5f2234f9808b"
      },
      "execution_count": 37,
      "outputs": [
        {
          "output_type": "stream",
          "name": "stdout",
          "text": [
            "Platforms based on:\n",
            " Fighting w/ 47 sales, Role-Playing w/ 70.4 sales, and Racing w/ 63.4 sales: \n",
            "['NES' 'GB' 'Wii']\n"
          ]
        }
      ]
    },
    {
      "cell_type": "markdown",
      "source": [
        "4. Exporting our code into a decision tree (as a png) and a dot file"
      ],
      "metadata": {
        "id": "P3RFFpaWbVot"
      }
    },
    {
      "cell_type": "code",
      "source": [
        "sales1 = tree.export_graphviz(model, out_file=None,\n",
        "                              feature_names=['Genre','Global_Sales'],\n",
        "                              class_names=sorted(y.unique()),\n",
        "                              label='all',\n",
        "                              rounded=True,\n",
        "                              filled=True)\n",
        "\n",
        "graph = graphviz.Source(sales1)\n",
        "graph.render(filename = 'sales_decisiontree', format='png')\n",
        "\n",
        "\n",
        "sales2 = tree.export_graphviz(model,out_file='sales_dotdiagram.dot',\n",
        "                              feature_names=['Genre','Global_Sales'],\n",
        "                              class_names=sorted(y.unique()),\n",
        "                              label='all',\n",
        "                              rounded=True,\n",
        "                              filled=True)\n"
      ],
      "metadata": {
        "id": "h4dQhnbbYITI"
      },
      "execution_count": 38,
      "outputs": []
    }
  ]
}